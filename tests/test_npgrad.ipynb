{
 "cells": [
  {
   "cell_type": "code",
   "execution_count": 1,
   "metadata": {},
   "outputs": [],
   "source": [
    "import pandas as pd\n",
    "import numpy as np\n",
    "import data"
   ]
  },
  {
   "cell_type": "code",
   "execution_count": 2,
   "metadata": {},
   "outputs": [
    {
     "data": {
      "text/html": [
       "<div>\n",
       "<style scoped>\n",
       "    .dataframe tbody tr th:only-of-type {\n",
       "        vertical-align: middle;\n",
       "    }\n",
       "\n",
       "    .dataframe tbody tr th {\n",
       "        vertical-align: top;\n",
       "    }\n",
       "\n",
       "    .dataframe thead th {\n",
       "        text-align: right;\n",
       "    }\n",
       "</style>\n",
       "<table border=\"1\" class=\"dataframe\">\n",
       "  <thead>\n",
       "    <tr style=\"text-align: right;\">\n",
       "      <th></th>\n",
       "      <th>x</th>\n",
       "      <th>y</th>\n",
       "      <th>z</th>\n",
       "      <th>Bx</th>\n",
       "      <th>By</th>\n",
       "      <th>Bz</th>\n",
       "    </tr>\n",
       "  </thead>\n",
       "  <tbody>\n",
       "    <tr>\n",
       "      <th>0</th>\n",
       "      <td>-0.040000</td>\n",
       "      <td>-0.040000</td>\n",
       "      <td>-0.219236</td>\n",
       "      <td>0.000033</td>\n",
       "      <td>1.215512e-05</td>\n",
       "      <td>-7.284397e-06</td>\n",
       "    </tr>\n",
       "    <tr>\n",
       "      <th>1</th>\n",
       "      <td>-0.040000</td>\n",
       "      <td>-0.040000</td>\n",
       "      <td>-0.217767</td>\n",
       "      <td>0.000042</td>\n",
       "      <td>2.031730e-05</td>\n",
       "      <td>-3.869628e-05</td>\n",
       "    </tr>\n",
       "    <tr>\n",
       "      <th>2</th>\n",
       "      <td>-0.040000</td>\n",
       "      <td>-0.040000</td>\n",
       "      <td>-0.216298</td>\n",
       "      <td>0.000049</td>\n",
       "      <td>2.702022e-05</td>\n",
       "      <td>-7.753445e-05</td>\n",
       "    </tr>\n",
       "    <tr>\n",
       "      <th>3</th>\n",
       "      <td>-0.040000</td>\n",
       "      <td>-0.040000</td>\n",
       "      <td>-0.214829</td>\n",
       "      <td>0.000054</td>\n",
       "      <td>3.135252e-05</td>\n",
       "      <td>-1.246384e-04</td>\n",
       "    </tr>\n",
       "    <tr>\n",
       "      <th>4</th>\n",
       "      <td>-0.040000</td>\n",
       "      <td>-0.040000</td>\n",
       "      <td>-0.213360</td>\n",
       "      <td>0.000056</td>\n",
       "      <td>3.218574e-05</td>\n",
       "      <td>-1.807521e-04</td>\n",
       "    </tr>\n",
       "    <tr>\n",
       "      <th>...</th>\n",
       "      <td>...</td>\n",
       "      <td>...</td>\n",
       "      <td>...</td>\n",
       "      <td>...</td>\n",
       "      <td>...</td>\n",
       "      <td>...</td>\n",
       "    </tr>\n",
       "    <tr>\n",
       "      <th>604995</th>\n",
       "      <td>0.039333</td>\n",
       "      <td>0.039333</td>\n",
       "      <td>0.067243</td>\n",
       "      <td>-0.000002</td>\n",
       "      <td>9.782542e-07</td>\n",
       "      <td>-1.971002e-07</td>\n",
       "    </tr>\n",
       "    <tr>\n",
       "      <th>604996</th>\n",
       "      <td>0.039333</td>\n",
       "      <td>0.039333</td>\n",
       "      <td>0.068712</td>\n",
       "      <td>-0.000002</td>\n",
       "      <td>9.580174e-07</td>\n",
       "      <td>-2.094007e-07</td>\n",
       "    </tr>\n",
       "    <tr>\n",
       "      <th>604997</th>\n",
       "      <td>0.039333</td>\n",
       "      <td>0.039333</td>\n",
       "      <td>0.070181</td>\n",
       "      <td>-0.000002</td>\n",
       "      <td>9.382850e-07</td>\n",
       "      <td>-2.209203e-07</td>\n",
       "    </tr>\n",
       "    <tr>\n",
       "      <th>604998</th>\n",
       "      <td>0.039333</td>\n",
       "      <td>0.039333</td>\n",
       "      <td>0.071651</td>\n",
       "      <td>-0.000002</td>\n",
       "      <td>9.190423e-07</td>\n",
       "      <td>-2.317022e-07</td>\n",
       "    </tr>\n",
       "    <tr>\n",
       "      <th>604999</th>\n",
       "      <td>0.039333</td>\n",
       "      <td>0.039333</td>\n",
       "      <td>0.073120</td>\n",
       "      <td>-0.000002</td>\n",
       "      <td>9.002750e-07</td>\n",
       "      <td>-2.417866e-07</td>\n",
       "    </tr>\n",
       "  </tbody>\n",
       "</table>\n",
       "<p>605000 rows × 6 columns</p>\n",
       "</div>"
      ],
      "text/plain": [
       "               x         y         z        Bx            By            Bz\n",
       "0      -0.040000 -0.040000 -0.219236  0.000033  1.215512e-05 -7.284397e-06\n",
       "1      -0.040000 -0.040000 -0.217767  0.000042  2.031730e-05 -3.869628e-05\n",
       "2      -0.040000 -0.040000 -0.216298  0.000049  2.702022e-05 -7.753445e-05\n",
       "3      -0.040000 -0.040000 -0.214829  0.000054  3.135252e-05 -1.246384e-04\n",
       "4      -0.040000 -0.040000 -0.213360  0.000056  3.218574e-05 -1.807521e-04\n",
       "...          ...       ...       ...       ...           ...           ...\n",
       "604995  0.039333  0.039333  0.067243 -0.000002  9.782542e-07 -1.971002e-07\n",
       "604996  0.039333  0.039333  0.068712 -0.000002  9.580174e-07 -2.094007e-07\n",
       "604997  0.039333  0.039333  0.070181 -0.000002  9.382850e-07 -2.209203e-07\n",
       "604998  0.039333  0.039333  0.071651 -0.000002  9.190423e-07 -2.317022e-07\n",
       "604999  0.039333  0.039333  0.073120 -0.000002  9.002750e-07 -2.417866e-07\n",
       "\n",
       "[605000 rows x 6 columns]"
      ]
     },
     "execution_count": 2,
     "metadata": {},
     "output_type": "execute_result"
    }
   ],
   "source": [
    "bfield_data = pd.read_csv(data.DIR_PATH / \"bender\" / \"FA_Bield_Bender_Iso_100large.csv\")\n",
    "bfield_data"
   ]
  },
  {
   "cell_type": "code",
   "execution_count": 17,
   "metadata": {},
   "outputs": [
    {
     "name": "stdout",
     "output_type": "stream",
     "text": [
      "Grid shape: 55 x 55 x 200\n"
     ]
    }
   ],
   "source": [
    "# Step 1: Extract unique coordinates and sort\n",
    "x_vals = np.sort(bfield_data['x'].unique())\n",
    "y_vals = np.sort(bfield_data['y'].unique())\n",
    "z_vals = np.sort(bfield_data['z'].unique())\n",
    "\n",
    "dx = x_vals[1] - x_vals[0]\n",
    "dy = y_vals[1] - y_vals[0]\n",
    "dz = z_vals[1] - z_vals[0]\n",
    "\n",
    "# Step 2: Reshape the data into 3D grids\n",
    "Nx, Ny, Nz = len(x_vals), len(y_vals), len(z_vals)\n",
    "print(f\"Grid shape: {Nx} x {Ny} x {Nz}\")\n",
    "\n",
    "# Must sort the dataframe by (x, y, z) to match the reshape order\n",
    "bfield_data_sorted = bfield_data.sort_values(['x', 'y', 'z'])\n",
    "\n",
    "Bx = bfield_data_sorted['Bx'].to_numpy().reshape(Nx, Ny, Nz)\n",
    "By = bfield_data_sorted['By'].to_numpy().reshape(Nx, Ny, Nz)\n",
    "Bz = bfield_data_sorted['Bz'].to_numpy().reshape(Nx, Ny, Nz)\n",
    "\n",
    "# Step 3: Apply gradient\n",
    "dBx_dx, dBx_dy, dBx_dz = np.gradient(Bx, dx, dy, dz, edge_order=2)\n",
    "dBy_dx, dBy_dy, dBy_dz = np.gradient(By, dx, dy, dz, edge_order=2)\n",
    "dBz_dx, dBz_dy, dBz_dz = np.gradient(Bz, dx, dy, dz, edge_order=2)\n",
    "\n",
    "# Step 4: Construct full Jacobian ∇B as shape (Nx, Ny, Nz, 3, 3)\n"
   ]
  },
  {
   "cell_type": "code",
   "execution_count": 16,
   "metadata": {},
   "outputs": [
    {
     "data": {
      "text/plain": [
       "(55, 55, 200)"
      ]
     },
     "execution_count": 16,
     "metadata": {},
     "output_type": "execute_result"
    }
   ],
   "source": [
    "dBx_dx.shape"
   ]
  },
  {
   "cell_type": "code",
   "execution_count": null,
   "metadata": {},
   "outputs": [],
   "source": []
  },
  {
   "cell_type": "code",
   "execution_count": null,
   "metadata": {},
   "outputs": [],
   "source": [
    "gradB = np.stack([\n",
    "    np.stack([dBx_dx, dBx_dy, dBx_dz], axis=-1),\n",
    "    np.stack([dBy_dx, dBy_dy, dBy_dz], axis=-1),\n",
    "    np.stack([dBz_dx, dBz_dy, dBz_dz], axis=-1)\n",
    "], axis=-2)\n",
    "\n",
    "gradB.shape"
   ]
  },
  {
   "cell_type": "code",
   "execution_count": 8,
   "metadata": {},
   "outputs": [
    {
     "data": {
      "text/plain": [
       "array([[ 8.89755263e-06,  8.16218225e-06, -3.14118805e-05],\n",
       "       [ 8.18193854e-06,  7.43255100e-06, -3.51250273e-05],\n",
       "       [ 6.29522751e-06,  5.51761019e-06, -4.29710734e-05],\n",
       "       ...,\n",
       "       [ 4.16318447e-08, -1.94875672e-08, -1.11507616e-08],\n",
       "       [ 4.05281256e-08, -1.90049821e-08, -1.04331340e-08],\n",
       "       [ 3.99854990e-08, -1.87672407e-08, -1.00844288e-08]],\n",
       "      shape=(605000, 3))"
      ]
     },
     "execution_count": 8,
     "metadata": {},
     "output_type": "execute_result"
    }
   ],
   "source": [
    "# The data contains x,y,z, Bx, By, Bz, and I want to take the gradient of the vector field B:\n",
    "\n",
    "gradient = np.gradient(\n",
    "    bfield_data[[\"Bx\", \"By\", \"Bz\"]].to_numpy(),\n",
    "\n",
    ")\n",
    "gradient[0]\n",
    "\n"
   ]
  },
  {
   "cell_type": "code",
   "execution_count": 9,
   "metadata": {},
   "outputs": [
    {
     "data": {
      "text/plain": [
       "array([[-2.04673281e-05, -1.99534210e-05, -1.94395138e-05],\n",
       "       [-2.12026985e-05, -4.01081375e-05, -5.90135766e-05],\n",
       "       [-2.19661032e-05, -6.32603868e-05, -1.04554670e-04],\n",
       "       ...,\n",
       "       [ 3.03290665e-06,  9.36850665e-07, -1.15920532e-06],\n",
       "       [ 2.97259318e-06,  9.10924369e-07, -1.15074444e-06],\n",
       "       [ 2.91384044e-06,  8.85889405e-07, -1.14206163e-06]],\n",
       "      shape=(605000, 3))"
      ]
     },
     "execution_count": 9,
     "metadata": {},
     "output_type": "execute_result"
    }
   ],
   "source": [
    "gradient[1]\n"
   ]
  },
  {
   "cell_type": "code",
   "execution_count": null,
   "metadata": {},
   "outputs": [],
   "source": []
  }
 ],
 "metadata": {
  "kernelspec": {
   "display_name": ".venv",
   "language": "python",
   "name": "python3"
  },
  "language_info": {
   "codemirror_mode": {
    "name": "ipython",
    "version": 3
   },
   "file_extension": ".py",
   "mimetype": "text/x-python",
   "name": "python",
   "nbconvert_exporter": "python",
   "pygments_lexer": "ipython3",
   "version": "3.13.3"
  }
 },
 "nbformat": 4,
 "nbformat_minor": 2
}
